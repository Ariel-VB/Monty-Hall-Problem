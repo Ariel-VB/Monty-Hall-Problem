{
 "cells": [
  {
   "cell_type": "markdown",
   "metadata": {},
   "source": [
    "# The Monty Hall Problem"
   ]
  },
  {
   "cell_type": "markdown",
   "metadata": {},
   "source": [
    "The **Monty Hall problem** is a problem in conditional probability that is famous for having a counterintuitive solution.\n",
    "\n",
    "Imagine you are a contestant in a game show, and are faced with three closed doors. Behind one of them is a car, but behind the other two are goats. If you pick the door with the car behind it, you win the game."
   ]
  },
  {
   "cell_type": "code",
   "execution_count": null,
   "metadata": {},
   "outputs": [],
   "source": [
    "#picture"
   ]
  },
  {
   "cell_type": "markdown",
   "metadata": {},
   "source": [
    "Say you pick door number 1. the host knows what is behind the doors, and opens one of the two doors you did not pick, revealing a goat. You are given a choice: you can **stick** with the door you chose originally, or you can **switch** to the  other closed door. Which do you pick?"
   ]
  },
  {
   "cell_type": "code",
   "execution_count": null,
   "metadata": {},
   "outputs": [],
   "source": [
    "#picture"
   ]
  },
  {
   "cell_type": "markdown",
   "metadata": {},
   "source": [
    "Intuitively, it shouldn't matter if you choose to stick or to switch. There are now two possible doors that the car could be behind, so the chances must be 50/50, right?\n",
    "\n",
    "Actually, you have a better chance of winning if you choose to **switch**. Why is this?\n",
    "\n",
    "When you choose the door number 1, there is a 1 in 3 chance of the car being behind the door you picked, and a 2 in 3 chance of the car being behind one of the other two doors. Now the host reveals a goat behind door number 3. This shouldn't affect the chance of the car being behind door number 1, since you already knew that there must be at least one goat behind the other doors. The chance of the car being behind door number 1 is still $\\frac{1}{3}$.\n",
    "\n",
    "We know that the car must be behind one of the doors, so total probability of the car being behind door 1, 2 or 3 is $\\frac{1}{3} + \\frac{1}{3} + \\frac{1}{3}$, or 100%.\n",
    "\n",
    "There is a $\\frac{1}{3}$ chance of the car being behind door number 1, and a $\\frac{0}{3}$ chance of the car being behind door number 3, since the host showed that it was a goat.\n",
    "\n",
    "So, the remaining $\\frac{2}{3}$ chance must all apply to door number 2! Therefore, **switching** will give you a $\\frac{2}{3}$ chance of winning, and **staying** will give you a $\\frac{1}{3}$ chance of winning.\n",
    "\n",
    "### More Doors\n",
    "\n",
    "If this solution still feels off, imagine the same problem, but with twenty doors instead of three. There is only one car, and behind the rest are goats."
   ]
  },
  {
   "cell_type": "code",
   "execution_count": 15,
   "metadata": {},
   "outputs": [
    {
     "data": {
      "application/vnd.jupyter.widget-view+json": {
       "model_id": "bc95b30acb9e47738f1a03ec84fd0a01",
       "version_major": 2,
       "version_minor": 0
      },
      "text/plain": [
       "Box(children=(Button(button_style='primary', description='Door 1', layout=Layout(height='100px', min_width='40…"
      ]
     },
     "metadata": {},
     "output_type": "display_data"
    },
    {
     "name": "stdout",
     "output_type": "stream",
     "text": [
      "Wins: 3\n",
      "Losses: 0\n",
      "Percentage of wins: 100.0%\n"
     ]
    }
   ],
   "source": [
    "from ipywidgets import widgets, Layout, Button, Box\n",
    "from IPython.display import clear_output\n",
    "from random import randint\n",
    "\n",
    "wins = 0\n",
    "losses = 0\n",
    "turn = 0\n",
    "chosen_door = None\n",
    "\n",
    "#Randomizes the winning door for the first time:\n",
    "winning_door = randint(0,2)\n",
    "\n",
    "#Sets up the layout of the buttons and box\n",
    "button_layout = Layout(height='100px', min_width='40px')\n",
    "box_layout = Layout(justify_content = \"center\")\n",
    "\n",
    "#Creates the buttons\n",
    "button1 = widgets.Button(description = \"Door 1\", button_style = \"primary\", layout = button_layout)\n",
    "button2 = widgets.Button(description = \"Door 2\", button_style = \"primary\", layout = button_layout)\n",
    "button3 = widgets.Button(description = \"Door 3\", button_style = \"primary\", layout = button_layout)\n",
    "\n",
    "buttons = [button1, button2, button3]\n",
    "\n",
    "#Creates the box\n",
    "button_box = Box(children = buttons, layout = box_layout)\n",
    "\n",
    "#Displays the box with the buttons in it\n",
    "display(button_box)\n",
    "\n",
    "#Button event handlers, record the chosen door and calls monty_hall():\n",
    "def button1_clicked(b):\n",
    "    \n",
    "    global chosen_door\n",
    "    chosen_door = 0\n",
    "    monty_hall()\n",
    "    \n",
    "def button2_clicked(b):\n",
    "    \n",
    "    global chosen_door\n",
    "    chosen_door = 1\n",
    "    monty_hall()\n",
    "    \n",
    "def button3_clicked(b):\n",
    "    \n",
    "    global chosen_door\n",
    "    chosen_door = 2\n",
    "    monty_hall() \n",
    "\n",
    "#Plays the Monty Hall Game repeatedly, and records wins:\n",
    "def monty_hall():\n",
    "    \n",
    "    global turn, wins\n",
    "    global losses\n",
    "    global turn\n",
    "    global chosen_door\n",
    "    global winning_door\n",
    "     \n",
    "    #Clears the previous buttons and results\n",
    "    clear_output()    \n",
    "    \n",
    "    #Move to the next turn, or reset to 0:\n",
    "    #Turn 0 is the initial state, 1 is after player has chosen the first door and a goat has been revealed, 2 is final state of the game\n",
    "    turn = (turn + 1)%3\n",
    "    \n",
    "    #TURN 0:\n",
    "    if turn == 0:\n",
    "        \n",
    "        #Randomize the winning door:\n",
    "        winning_door = randint(0,2)\n",
    "        \n",
    "        #Reset button color and labels:\n",
    "        for door_number in range(0,3):\n",
    "            num = door_number + 1\n",
    "            buttons[door_number].description = f\"Door {num}\"\n",
    "            buttons[door_number].button_style = \"primary\"\n",
    "    \n",
    "    #TURN 1:\n",
    "    if turn == 1:\n",
    "        \n",
    "        #Change color of chosen door:\n",
    "        buttons[chosen_door].button_style = \"info\"\n",
    "        \n",
    "        #Reveal one goat:\n",
    "        for door_number in range(0,3):\n",
    "            if winning_door != door_number and chosen_door != door_number:\n",
    "                buttons[door_number].description = \"Goat\"\n",
    "                buttons[door_number].button_style = \"danger\"\n",
    "                break\n",
    "                    \n",
    "    #TURN 2:\n",
    "    if turn == 2:\n",
    "        \n",
    "        #Reveal everything:\n",
    "        for door_number in range(0,3):\n",
    "            #For the winning door:\n",
    "            if winning_door == door_number:\n",
    "                buttons[door_number].description = \"Car\"\n",
    "                buttons[door_number].button_style = \"success\"\n",
    "            #For the losing doors:\n",
    "            else:\n",
    "                buttons[door_number].description = \"Goat\"\n",
    "                buttons[door_number].button_style = \"danger\"\n",
    "               \n",
    "        #Recording wins and losses:\n",
    "        if chosen_door == winning_door:\n",
    "            wins += 1\n",
    "            print(\"You won!\")\n",
    "            print(\"Press any button to try again.\")\n",
    "        else:\n",
    "            losses += 1\n",
    "            print(\"You lost.\")\n",
    "            print(\"Press any button to try again.\")\n",
    "                       \n",
    "    \n",
    "    #Re-displays the buttons\n",
    "    display(button_box)\n",
    "    \n",
    "    #Prints the results\n",
    "    print(f\"Wins: {wins}\")\n",
    "    print(f\"Losses: {losses}\")\n",
    "    if (wins + losses) != 0:\n",
    "        percent = wins / (wins + losses)\n",
    "    else:\n",
    "        percent = 0\n",
    "    print(f\"Percentage of wins: {round(percent,3)*100}%\")\n",
    "    \n",
    "    \n",
    "button1.on_click(button1_clicked)\n",
    "button2.on_click(button2_clicked)\n",
    "button3.on_click(button3_clicked)"
   ]
  },
  {
   "cell_type": "markdown",
   "metadata": {},
   "source": [
    "#### If you would like a visual explanation of the Monty Hall problem, please watch this video by Numberphile:"
   ]
  },
  {
   "cell_type": "code",
   "execution_count": 16,
   "metadata": {},
   "outputs": [
    {
     "data": {
      "image/jpeg": "[encoded data removed]",
      "text/html": [
       "\n",
       "        <iframe\n",
       "            width=\"400\"\n",
       "            height=\"300\"\n",
       "            src=\"https://www.youtube.com/embed/4Lb-6rxZxx0\"\n",
       "            frameborder=\"0\"\n",
       "            allowfullscreen\n",
       "        ></iframe>\n",
       "        "
      ],
      "text/plain": [
       "<IPython.lib.display.YouTubeVideo at 0x227f94b7048>"
      ]
     },
     "execution_count": 16,
     "metadata": {},
     "output_type": "execute_result"
    }
   ],
   "source": [
    "from IPython.display import YouTubeVideo\n",
    "YouTubeVideo('4Lb-6rxZxx0')"
   ]
  },
  {
   "cell_type": "markdown",
   "metadata": {},
   "source": [
    "**Sources:**\n",
    "\n",
    "https://brilliant.org/wiki/monty-hall-problem/\n",
    "\n",
    "https://www.youtube.com/watch?v=4Lb-6rxZxx0"
   ]
  },
  {
   "cell_type": "code",
   "execution_count": null,
   "metadata": {},
   "outputs": [],
   "source": []
  }
 ],
 "metadata": {
  "kernelspec": {
   "display_name": "Python 3",
   "language": "python",
   "name": "python3"
  },
  "language_info": {
   "codemirror_mode": {
    "name": "ipython",
    "version": 3
   },
   "file_extension": ".py",
   "mimetype": "text/x-python",
   "name": "python",
   "nbconvert_exporter": "python",
   "pygments_lexer": "ipython3",
   "version": "3.6.5"
  }
 },
 "nbformat": 4,
 "nbformat_minor": 2
}
